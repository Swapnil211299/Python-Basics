{
  "nbformat": 4,
  "nbformat_minor": 0,
  "metadata": {
    "colab": {
      "provenance": []
    },
    "kernelspec": {
      "name": "python3",
      "display_name": "Python 3"
    },
    "language_info": {
      "name": "python"
    }
  },
  "cells": [
    {
      "cell_type": "markdown",
      "source": [
        "# Python Basics Questions"
      ],
      "metadata": {
        "id": "8NdS0ODVyIYi"
      }
    },
    {
      "cell_type": "markdown",
      "source": [
        "1. What is Python, and why is it popular?\n",
        "  - Python is a popular, easy-to-use programming language known for its versatility in web development, data science, AI, and automation. Python is a popular, easy-to-read programming language used for web development, data science, AI, and automation.\n",
        "\n",
        "2. What is an interpreter in Python?\n",
        "  - A Python interpreter is a program that reads and executes Python code line by line, translating it into instructions the computer understands.\n",
        "\n",
        "3. What are pre-defined keywords in Python?\n",
        "  - Pre-defined keywords in Python are reserved words with special meanings that the language uses for its syntax and structure. You cannot use them for variable names or other identifiers. Examples include if, else, for, while, def, class, import, True, False, None.\n",
        "\n",
        "4. Can keywords be used as variable names?\n",
        "  - No. Keywords are reserved words in Python and cannot be used as variable names or other identifiers. Using them will result in a syntax error.\n",
        "\n",
        "5. What is mutability in Python?\n",
        "  - Mutability in Python refers to whether an object's value can be changed after it's created.\n",
        "  - Mutable objects (like lists, dictionaries, sets) can be modified in place.\n",
        "  - Immutable objects (like numbers, strings, tuples) cannot be changed once created; any \"modification\" actually creates a new object.\n",
        "\n",
        "6. Why are lists mutable, but tuples are immutable?\n",
        "   - Lists are designed for dynamic collections where elements can be added, removed, or changed. Tuples are designed for fixed collections where the elements shouldn't change after creation, offering benefits like performance and data integrity.\n",
        "\n",
        "7. What is the difference between \"==\" and \"is\" operators in Python?\n",
        "\n",
        "   - == compares values (are they equal?), while is compares identities (are they the exact same object in memory?).\n",
        "\n",
        "8. What are logical operators in Python?\n",
        "   - Logical operators (and, or, not) in Python combine conditional statements to determine the overall truth value of an expression. They are essential for decision-making in programs.\n",
        "\n",
        "9. What is type casting in Python?\n",
        "   - Type casting (or type conversion) in Python is the process of changing one data type into another, like converting an integer to a string or a float.\n",
        "\n",
        "10. What is the difference between implicit and explicit type casting?\n",
        "\n",
        "    - Implicit casting (coercion) : happens automatically by Python, usually to prevent data loss (e.g., int to float).\n",
        "\n",
        "    - Explicit casting (type conversion) : is done manually by the programmer using functions like int(), float(), or str().\n",
        "\n",
        "11. What is the purpose of conditional statements in Python?\n",
        "    - Conditional statements (like if, elif, else) allow your Python program to make decisions and execute different blocks of code based on whether certain conditions are true or false. They control the flow of the program.\n",
        "\n",
        "12. How does the elif statement work?\n",
        "    - elif (short for \"else if\") checks another condition if the preceding if or elif conditions were false. Only the code block for the first true condition is executed.\n",
        "\n",
        "13. What is the difference between for and while loops?\n",
        "\n",
        "    - for loop: Iterates over a sequence (list, string, range) a known number of times.\n",
        "\n",
        "    - while loop: Repeats a block of code as long as a condition is true for an unknown number of iterations.\n",
        "\n",
        "14. Describe a scenario where a while loop is more suitable than a for loop?\n",
        "    - A while loop is more suitable when you need to repeat an action until a specific condition is met, and you don't know beforehand how many times it will need to repeat.\n",
        "    - Scenario: Asking a user for input repeatedly until they enter a valid age (e.g., a number between 1 and 120). You don't know how many incorrect attempts they might make."
      ],
      "metadata": {
        "id": "Z3F8HKAizAog"
      }
    },
    {
      "cell_type": "markdown",
      "source": [
        "# Practical Questions"
      ],
      "metadata": {
        "id": "wUx5Uf-l-WQI"
      }
    },
    {
      "cell_type": "markdown",
      "source": [
        "1) Write a Python program to print \"Hello, World!\""
      ],
      "metadata": {
        "id": "_dbeozVPzpov"
      }
    },
    {
      "cell_type": "code",
      "execution_count": null,
      "metadata": {
        "colab": {
          "base_uri": "https://localhost:8080/"
        },
        "id": "hRZojO2KWvnR",
        "outputId": "6e0443c6-b104-40c7-9a43-d68fb10872ef"
      },
      "outputs": [
        {
          "output_type": "stream",
          "name": "stdout",
          "text": [
            "Hello world\n"
          ]
        }
      ],
      "source": [
        "print(\"Hello world\")"
      ]
    },
    {
      "cell_type": "markdown",
      "source": [
        "2) Write a Python program that displays your name and age."
      ],
      "metadata": {
        "id": "GRr8ypL7zuRd"
      }
    },
    {
      "cell_type": "code",
      "source": [
        "name = \"Swapnil\"\n",
        "age = 25\n",
        "print(f\"My name is {name} and I am {age} years old\")"
      ],
      "metadata": {
        "colab": {
          "base_uri": "https://localhost:8080/"
        },
        "id": "vo8lNR_kW7oE",
        "outputId": "a47bb13e-abb5-4636-f6b0-e3f92245805c"
      },
      "execution_count": 1,
      "outputs": [
        {
          "output_type": "stream",
          "name": "stdout",
          "text": [
            "My name is Swapnil and I am 25 years old\n"
          ]
        }
      ]
    },
    {
      "cell_type": "markdown",
      "source": [
        "3) Write code to print all the pre-defined keywords in Python using the keyword library."
      ],
      "metadata": {
        "id": "6_SR_HKhzz7y"
      }
    },
    {
      "cell_type": "code",
      "source": [
        "import keyword\n",
        "\n",
        "print(\"Pre-defined keywords in Python:\")\n",
        "for kw in keyword.kwlist:\n",
        "  print(kw)"
      ],
      "metadata": {
        "colab": {
          "base_uri": "https://localhost:8080/"
        },
        "id": "uBW74J_WW7WL",
        "outputId": "09ee7fab-15d3-4efb-f41e-3608ac7634fe"
      },
      "execution_count": 3,
      "outputs": [
        {
          "output_type": "stream",
          "name": "stdout",
          "text": [
            "Pre-defined keywords in Python:\n",
            "False\n",
            "None\n",
            "True\n",
            "and\n",
            "as\n",
            "assert\n",
            "async\n",
            "await\n",
            "break\n",
            "class\n",
            "continue\n",
            "def\n",
            "del\n",
            "elif\n",
            "else\n",
            "except\n",
            "finally\n",
            "for\n",
            "from\n",
            "global\n",
            "if\n",
            "import\n",
            "in\n",
            "is\n",
            "lambda\n",
            "nonlocal\n",
            "not\n",
            "or\n",
            "pass\n",
            "raise\n",
            "return\n",
            "try\n",
            "while\n",
            "with\n",
            "yield\n"
          ]
        }
      ]
    },
    {
      "cell_type": "markdown",
      "source": [
        "4) Write a program that checks if a given word is a Python keyword."
      ],
      "metadata": {
        "id": "6EEkFr3Bz252"
      }
    },
    {
      "cell_type": "code",
      "source": [
        "import keyword\n",
        "\n",
        "def check_if_keyword(word):\n",
        "  if keyword.iskeyword(word):\n",
        "    print(f\"'{word}' is a Python keyword.\")\n",
        "  else:\n",
        "    print(f\"'{word}' is NOT a Python keyword.\")\n",
        "\n",
        "# Test cases\n",
        "check_if_keyword(\"if\")\n",
        "check_if_keyword(\"my_variable\")"
      ],
      "metadata": {
        "colab": {
          "base_uri": "https://localhost:8080/"
        },
        "id": "kBoW962XXjXg",
        "outputId": "9613f03e-5ca8-4f04-f29a-8510d586370d"
      },
      "execution_count": 4,
      "outputs": [
        {
          "output_type": "stream",
          "name": "stdout",
          "text": [
            "'if' is a Python keyword.\n",
            "'my_variable' is NOT a Python keyword.\n"
          ]
        }
      ]
    },
    {
      "cell_type": "markdown",
      "source": [],
      "metadata": {
        "id": "4HoMJKqXzYr2"
      }
    },
    {
      "cell_type": "markdown",
      "source": [
        "5) Create a list and tuple in Python, and demonstrate how attempting to change an element works differently\n",
        "for each."
      ],
      "metadata": {
        "id": "i5UiWWtc0AEU"
      }
    },
    {
      "cell_type": "code",
      "source": [
        "# Create a list\n",
        "my_list = [10, 20, 30, 40]\n",
        "print(f\"Original list: {my_list}\")\n",
        "\n",
        "# Attempt to change an element in the list\n",
        "my_list[1] = 25\n",
        "print(f\"Modified list: {my_list}\")"
      ],
      "metadata": {
        "id": "u_SzRoKXY8ld",
        "colab": {
          "base_uri": "https://localhost:8080/"
        },
        "outputId": "2dee721c-9e5a-418d-9ea7-0206dde82497"
      },
      "execution_count": 5,
      "outputs": [
        {
          "output_type": "stream",
          "name": "stdout",
          "text": [
            "Original list: [10, 20, 30, 40]\n",
            "Modified list: [10, 25, 30, 40]\n"
          ]
        }
      ]
    },
    {
      "cell_type": "code",
      "source": [
        "# Create a tuple\n",
        "my_tuple = (100, 200, 300, 400)\n",
        "print(f\"Original tuple: {my_tuple}\")\n",
        "\n",
        "# Attempt to change an element in the tuple (this will cause an error)\n",
        "try:\n",
        "    my_tuple[1] = 250\n",
        "except TypeError as e:\n",
        "    print(f\"Error attempting to modify tuple: {e}\")\n",
        "\n",
        "# To \"change\" a tuple, we effectively create a new one\n",
        "new_tuple = my_tuple[:1] + (250,) + my_tuple[2:]\n",
        "print(f\"New tuple (after 'modifying'): {new_tuple}\")"
      ],
      "metadata": {
        "colab": {
          "base_uri": "https://localhost:8080/"
        },
        "outputId": "add852c0-d82c-449e-f139-102d07b80443",
        "id": "cKf3egTUqXSu"
      },
      "execution_count": 6,
      "outputs": [
        {
          "output_type": "stream",
          "name": "stdout",
          "text": [
            "Original tuple: (100, 200, 300, 400)\n",
            "Error attempting to modify tuple: 'tuple' object does not support item assignment\n",
            "New tuple (after 'modifying'): (100, 250, 300, 400)\n"
          ]
        }
      ]
    },
    {
      "cell_type": "markdown",
      "source": [
        "6) Write a function to demonstrate the behavior of mutable and immutable arguments."
      ],
      "metadata": {
        "id": "wsghM2Dx0CgT"
      }
    },
    {
      "cell_type": "code",
      "source": [
        "def mod_args(a_list, a_num):\n",
        "    a_list.append(0)  # Changes original list\n",
        "    a_num += 1        # Creates new number\n",
        "\n",
        "my_list = [1]\n",
        "my_num = 10\n",
        "\n",
        "print(f\"Start: List={my_list}, Num={my_num}\")\n",
        "mod_args(my_list, my_num)\n",
        "\n",
        "print(f\"End:   List={my_list}, Num={my_num}\")\n",
        "# List changed, Num didn't."
      ],
      "metadata": {
        "colab": {
          "base_uri": "https://localhost:8080/"
        },
        "id": "Z06z94GW0CLC",
        "outputId": "003edb68-341c-4ad9-eaf2-0656385b500c"
      },
      "execution_count": 7,
      "outputs": [
        {
          "output_type": "stream",
          "name": "stdout",
          "text": [
            "Start: List=[1], Num=10\n",
            "End:   List=[1, 0], Num=10\n"
          ]
        }
      ]
    },
    {
      "cell_type": "markdown",
      "source": [
        "7) Write a program that performs basic arithmetic operations on two user-input numbers."
      ],
      "metadata": {
        "id": "2he29LXOzTUd"
      }
    },
    {
      "cell_type": "code",
      "source": [
        "# Normal Positive Numbers\n",
        "try:\n",
        "    a, b = float(input()), float(input()) # Get two numbers\n",
        "    print(f\"S:{a+b} D:{a-b} P:{a*b} Q:{a/b if b else 'Err'}\") # All results\n",
        "except:\n",
        "    print(\"Invalid\")"
      ],
      "metadata": {
        "colab": {
          "base_uri": "https://localhost:8080/"
        },
        "id": "Q6jbDwe7c8sw",
        "outputId": "000c6c26-bbd4-435a-9004-8fad8c78cd5e"
      },
      "execution_count": 10,
      "outputs": [
        {
          "output_type": "stream",
          "name": "stdout",
          "text": [
            "10\n",
            "5\n",
            "S:15.0 D:5.0 P:50.0 Q:2.0\n"
          ]
        }
      ]
    },
    {
      "cell_type": "code",
      "source": [
        "# Positive and Negative Numbers\n",
        "try:\n",
        "    a, b = float(input()), float(input()) # Get two numbers\n",
        "    print(f\"S:{a+b} D:{a-b} P:{a*b} Q:{a/b if b else 'Err'}\") # All results\n",
        "except:\n",
        "    print(\"Invalid\")"
      ],
      "metadata": {
        "colab": {
          "base_uri": "https://localhost:8080/"
        },
        "id": "apXP5VtYJRoT",
        "outputId": "0ab112e7-f989-45c8-8ee7-5b38e0940af9"
      },
      "execution_count": 11,
      "outputs": [
        {
          "output_type": "stream",
          "name": "stdout",
          "text": [
            "7\n",
            "-2\n",
            "S:5.0 D:9.0 P:-14.0 Q:-3.5\n"
          ]
        }
      ]
    },
    {
      "cell_type": "code",
      "source": [
        "# Division by Zero (second number is 0):\n",
        "try:\n",
        "    a, b = float(input()), float(input()) # Get two numbers\n",
        "    print(f\"S:{a+b} D:{a-b} P:{a*b} Q:{a/b if b else 'Err'}\") # All results\n",
        "except:\n",
        "    print(\"Invalid\")"
      ],
      "metadata": {
        "colab": {
          "base_uri": "https://localhost:8080/"
        },
        "id": "hbRJ7E_MJnb9",
        "outputId": "d7ceb39c-5e82-495c-a2eb-ca7784b4bfa0"
      },
      "execution_count": 12,
      "outputs": [
        {
          "output_type": "stream",
          "name": "stdout",
          "text": [
            "100\n",
            "0\n",
            "S:100.0 D:100.0 P:0.0 Q:Err\n"
          ]
        }
      ]
    },
    {
      "cell_type": "markdown",
      "source": [
        "8) Write a program to demonstrate the use of logical operators."
      ],
      "metadata": {
        "id": "kJ4Q1JjEzJcF"
      }
    },
    {
      "cell_type": "code",
      "source": [
        "# --- Logical Operators ---\n",
        "\n",
        "is_good = True\n",
        "is_bad = False\n",
        "\n",
        "# AND (both True)\n",
        "print(f\"Good AND Bad: {is_good and is_bad}\")\n",
        "\n",
        "# OR (at least one True)\n",
        "print(f\"Good OR Bad: {is_good or is_bad}\")\n",
        "\n",
        "# NOT (flips it)\n",
        "print(f\"NOT Good: {not is_good}\")"
      ],
      "metadata": {
        "colab": {
          "base_uri": "https://localhost:8080/"
        },
        "id": "faNRFzThd-Jb",
        "outputId": "26f19e5b-ae30-4b77-e680-1596643cda3b"
      },
      "execution_count": 15,
      "outputs": [
        {
          "output_type": "stream",
          "name": "stdout",
          "text": [
            "Good AND Bad: False\n",
            "Good OR Bad: True\n",
            "NOT Good: False\n"
          ]
        }
      ]
    },
    {
      "cell_type": "markdown",
      "source": [
        "9) Write a Python program to convert user input from string to integer, float, and boolean types."
      ],
      "metadata": {
        "id": "nw6gFg2FzC_-"
      }
    },
    {
      "cell_type": "code",
      "source": [
        "# Convert String Inputs\n",
        "\n",
        "# Integer\n",
        "try: i = int(input(\"Int: \")); print(f\"-> {i}\")\n",
        "except: print(\"Int Error\")\n",
        "\n",
        "# Float\n",
        "try: f = float(input(\"Float: \")); print(f\"-> {f}\")\n",
        "except: print(\"Float Error\")\n",
        "\n",
        "# Boolean\n",
        "b = input(\"Bool: \")\n",
        "print(f\"-> {bool(b)} (raw)\")\n",
        "print(f\"-> {b.lower() == 'true'} (strict)\")"
      ],
      "metadata": {
        "colab": {
          "base_uri": "https://localhost:8080/"
        },
        "id": "20D4Pwsxd92o",
        "outputId": "66581b72-f923-489b-afd5-a942ac303f61"
      },
      "execution_count": 16,
      "outputs": [
        {
          "output_type": "stream",
          "name": "stdout",
          "text": [
            "Int: 123\n",
            "-> 123\n",
            "Float: 3.14\n",
            "-> 3.14\n",
            "Bool: True\n",
            "-> True (raw)\n",
            "-> True (strict)\n"
          ]
        }
      ]
    },
    {
      "cell_type": "markdown",
      "source": [
        "10)  Write code to demonstrate type casting with list elements."
      ],
      "metadata": {
        "id": "wEbnjQtVy8z0"
      }
    },
    {
      "cell_type": "code",
      "source": [
        "# Convert strings to integers\n",
        "s = ['1', '2']\n",
        "i = [int(x) for x in s]\n",
        "print(f\"Str to Int: {i}\")\n",
        "\n",
        "# Convert integers to strings\n",
        "i2 = [3, 4]\n",
        "s2 = [str(x) for x in i2]\n",
        "print(f\"Int to Str: {s2}\")\n",
        "\n",
        "# Convert strings to floats\n",
        "s3 = ['5.5', '6.0']\n",
        "f = [float(x) for x in s3]\n",
        "print(f\"Str to Float: {f}\")\n",
        "\n",
        "# Convert floats to integers\n",
        "f2 = [7.9, 8.1]\n",
        "i3 = [int(x) for x in f2]\n",
        "print(f\"Float to Int: {i3}\")"
      ],
      "metadata": {
        "colab": {
          "base_uri": "https://localhost:8080/"
        },
        "id": "FSIUBTo4d9tF",
        "outputId": "9b6f9280-f1b0-4568-a14d-7e7048bf8d2b"
      },
      "execution_count": 18,
      "outputs": [
        {
          "output_type": "stream",
          "name": "stdout",
          "text": [
            "Str to Int: [1, 2]\n",
            "Int to Str: ['3', '4']\n",
            "Str to Float: [5.5, 6.0]\n",
            "Float to Int: [7, 8]\n"
          ]
        }
      ]
    },
    {
      "cell_type": "markdown",
      "source": [
        "11) Write a program that checks if a number is positive, negative, or zero."
      ],
      "metadata": {
        "id": "BTHLUcMUy4r3"
      }
    },
    {
      "cell_type": "code",
      "source": [
        "num = float(input(\"Enter a number: \"))\n",
        "\n",
        "if num > 1:\n",
        "  print(\"It's a POSITIVE number!\")\n",
        "elif num < 1:\n",
        "  print(\"It's a NEGATIVE number!\")\n",
        "else:\n",
        "  print(\"It's ONE!\")"
      ],
      "metadata": {
        "colab": {
          "base_uri": "https://localhost:8080/"
        },
        "id": "fi2FZ9b3gebn",
        "outputId": "11632f7e-22ae-4a8e-bd03-2c151e78b3b4"
      },
      "execution_count": 19,
      "outputs": [
        {
          "output_type": "stream",
          "name": "stdout",
          "text": [
            "Enter a number: 12\n",
            "It's a POSITIVE number!\n"
          ]
        }
      ]
    },
    {
      "cell_type": "markdown",
      "source": [
        "12) Write a for loop to print numbers from 1 to 10."
      ],
      "metadata": {
        "id": "aUNhLQKt62Zz"
      }
    },
    {
      "cell_type": "code",
      "source": [
        "# for loop from 1 to 10\n",
        "num = 1\n",
        "while num <= 10:\n",
        "  print(num)\n",
        "  num += 1 # This means num = num + 1"
      ],
      "metadata": {
        "id": "wvQFtAqgh5Ie",
        "colab": {
          "base_uri": "https://localhost:8080/"
        },
        "outputId": "a8e02613-6b3f-475a-b0df-9705eddd3d74"
      },
      "execution_count": 21,
      "outputs": [
        {
          "output_type": "stream",
          "name": "stdout",
          "text": [
            "1\n",
            "2\n",
            "3\n",
            "4\n",
            "5\n",
            "6\n",
            "7\n",
            "8\n",
            "9\n",
            "10\n"
          ]
        }
      ]
    },
    {
      "cell_type": "markdown",
      "source": [
        "13) Write a Python program to find the sum of all even numbers between 1 and 50."
      ],
      "metadata": {
        "id": "_jp1XhxbywwX"
      }
    },
    {
      "cell_type": "code",
      "source": [
        "# sum of even numbers between 1 and 50\n",
        "\n",
        "total = 0\n",
        "for num in range(2, 51, 2):\n",
        "  total += num\n",
        "print(total)"
      ],
      "metadata": {
        "colab": {
          "base_uri": "https://localhost:8080/"
        },
        "id": "tYqdsnlBqIBm",
        "outputId": "8ccfa87c-9a43-4760-b639-55849577e6b2"
      },
      "execution_count": 22,
      "outputs": [
        {
          "output_type": "stream",
          "name": "stdout",
          "text": [
            "650\n"
          ]
        }
      ]
    },
    {
      "cell_type": "markdown",
      "source": [
        "14)  Write a program to reverse a string using a while loop."
      ],
      "metadata": {
        "id": "B-LBmDp7yuen"
      }
    },
    {
      "cell_type": "code",
      "source": [
        "# reverse string using while loop\n",
        "\n",
        "my_list = [1, 2, 3, 4, 5]\n",
        "\n",
        "my_list.reverse() # This flips the list right in place!\n",
        "\n",
        "print(my_list)"
      ],
      "metadata": {
        "colab": {
          "base_uri": "https://localhost:8080/"
        },
        "id": "zmIkRTdZuBLm",
        "outputId": "56da514f-0d3d-4499-ade2-9aa94212f9a9"
      },
      "execution_count": 23,
      "outputs": [
        {
          "output_type": "stream",
          "name": "stdout",
          "text": [
            "[5, 4, 3, 2, 1]\n"
          ]
        }
      ]
    },
    {
      "cell_type": "markdown",
      "source": [
        "15) Write a Python program to calculate the factorial of a number provided by the user using a while loop."
      ],
      "metadata": {
        "id": "4qQUjDckx_6h"
      }
    },
    {
      "cell_type": "code",
      "source": [
        "n = int(input(\"Num: \"))\n",
        "f = 1\n",
        "while n > 0: f *= n; n -= 1\n",
        "print(f)"
      ],
      "metadata": {
        "colab": {
          "base_uri": "https://localhost:8080/"
        },
        "id": "gYRn5XWtwjlg",
        "outputId": "16dd7853-9517-4b36-9e4c-c295f8418304"
      },
      "execution_count": 24,
      "outputs": [
        {
          "output_type": "stream",
          "name": "stdout",
          "text": [
            "Enter number: 3\n",
            "Factorial: 6\n"
          ]
        }
      ]
    }
  ]
}